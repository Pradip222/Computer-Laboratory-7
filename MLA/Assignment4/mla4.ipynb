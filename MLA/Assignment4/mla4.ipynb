{
 "cells": [
  {
   "cell_type": "code",
   "execution_count": 7,
   "metadata": {
    "collapsed": false
   },
   "outputs": [],
   "source": [
    "from copy import deepcopy\n",
    "import pandas as pd\n",
    "import numpy as np\n",
    "import matplotlib.pyplot as plt \n"
   ]
  },
  {
   "cell_type": "code",
   "execution_count": 8,
   "metadata": {},
   "outputs": [
    {
     "name": "stdout",
     "output_type": "stream",
     "text": [
      "Centroid= {1: [26, 16], 2: [68, 42], 3: [55, 76]}\n"
     ]
    },
    {
     "data": {
      "image/png": "[encoded data removed]",
      "text/plain": [
       "<Figure size 432x288 with 1 Axes>"
      ]
     },
     "metadata": {},
     "output_type": "display_data"
    }
   ],
   "source": [
    "df = pd.DataFrame({\n",
    "'x': [12, 20, 28, 18, 29, 33, 24, 45, 45, 52, 51, 52, 55, 53, 55, 61, 64, 69, 72],\n",
    "'y': [39, 36, 30, 52, 54, 46, 55, 59, 63, 70, 66, 63, 58, 23, 14, 8, 19, 7, 24]\n",
    "})\n",
    "# generate random numbers\n",
    "np.random.seed(200)\n",
    "k = 3\n",
    "#centroids[i] = [x, y]\n",
    "# Return random integers\n",
    "centroids = {\n",
    "i+1:[np.random.randint(0, 80), np.random.randint(0, 80)]\n",
    "for i in range(k)\n",
    "}\n",
    "print(\"Centroid=\",centroids)\n",
    "\n",
    "plt.scatter(df['x'], df['y'], color='BLACK')\n",
    "colmap = {1: 'r', 2: 'g', 3: 'b'}\n",
    "for i in centroids.keys(): #represent color centroid ..\n",
    " plt.scatter(*centroids[i], color=colmap[i]) # .keys() returns a view object that displays a list of all the keys.\n",
    " \n",
    "plt.xlim(0, 80)\n",
    "plt.ylim(0, 80)\n",
    "plt.show()"
   ]
  },
  {
   "cell_type": "code",
   "execution_count": 9,
   "metadata": {},
   "outputs": [
    {
     "name": "stdout",
     "output_type": "stream",
     "text": [
      "     x   y  distance_from_1  closest color  distance_from_2  distance_from_3\n0   12  39        26.925824        1     r        56.080300        56.727418\n1   20  36        20.880613        1     r        48.373546        53.150729\n2   28  30        14.142136        1     r        41.761226        53.338541\n3   18  52        36.878178        1     r        50.990195        44.102154\n4   29  54        38.118237        3     b        40.804412        34.058773\n5   33  46        30.805844        1     r        35.227830        37.202150\n6   24  55        39.051248        3     b        45.880279        37.443290\n7   45  59        47.010637        3     b        28.600699        19.723083\n8   45  63        50.695167        3     b        31.144823        16.401219\n9   52  70        59.933296        3     b        32.249031         6.708204\n10  51  66        55.901699        3     b        29.410882        10.770330\n11  52  63        53.712196        3     b        26.400758        13.341664\n12  55  58        51.039201        3     b        20.615528        18.000000\n13  53  23        27.892651        2     g        24.207437        53.037722\n14  55  14        29.068884        1     r        30.870698        62.000000\n15  61   8        35.902646        2     g        34.713110        68.264193\n16  64  19        38.118237        2     g        23.345235        57.706152\n17  69   7        43.931765        2     g        35.014283        70.405966\n18  72  24        46.690470        2     g        18.439089        54.708317\n"
     ]
    },
    {
     "data": {
      "image/png": "[encoded data removed]",
      "text/plain": [
       "<Figure size 432x288 with 1 Axes>"
      ]
     },
     "metadata": {},
     "output_type": "display_data"
    }
   ],
   "source": [
    "def assignment(df, centroids):\n",
    " for i in centroids.keys(): \n",
    "# start from 1 to 3 everytimes \n",
    " # sqrt((x1 - x2)^2 + (y1 - y2)^2)\n",
    "  df['distance_from_{}'.format(i)] =( np.sqrt( (df['x'] - centroids[i][0]) ** 2 +(df['y'] - centroids[i][1]) ** 2 ))\n",
    "  centroid_distance_cols = ['distance_from_{}'.format(i) for i in centroids.keys()]\n",
    "  #.idmin) \n",
    "  #finding the nearest data in the dataframe\n",
    "  df['closest'] = df.loc[:, centroid_distance_cols].idxmin(axis=1)\n",
    "  df['closest'] = df['closest'].map(lambda x: int(x.lstrip('distance_from_')))\n",
    "  df['color'] = df['closest'].map(lambda x: colmap[x])\n",
    " return df\n",
    "df = assignment(df, centroids)\n",
    "print(df)\n",
    "\n",
    "plt.scatter(df['x'], df['y'], color=df['color'], alpha=0.5, edgecolor='k')\n",
    "for i in centroids.keys():\n",
    " plt.scatter(*centroids[i], color=colmap[i])\n",
    "plt.xlim(0, 80)\n",
    "plt.ylim(0, 80)\n",
    "plt.show()\n"
   ]
  },
  {
   "cell_type": "code",
   "execution_count": 10,
   "metadata": {},
   "outputs": [
    {
     "name": "stdout",
     "output_type": "stream",
     "text": [
      "Updated centroids  {1: [27.666666666666668, 36.166666666666664], 2: [63.8, 16.2], 3: [44.125, 61.0]}\n"
     ]
    },
    {
     "data": {
      "image/png": "[encoded data removed]",
      "text/plain": [
       "<Figure size 432x288 with 1 Axes>"
      ]
     },
     "metadata": {},
     "output_type": "display_data"
    }
   ],
   "source": [
    "import copy\n",
    "old_centroids = copy.deepcopy(centroids) # create bindings between a target and an object.\n",
    "def update(k):\n",
    " for i in centroids.keys():\n",
    "  centroids[i][0] = np.mean(df[df['closest'] == i]['x'])\n",
    "  centroids[i][1] = np.mean(df[df['closest'] == i]['y'])\n",
    " return k\n",
    "centroids = update(centroids)\n",
    "print(\"Updated centroids \", centroids)\n",
    "\n",
    "plt.scatter(df['x'], df['y'], color=df['color'], alpha=0.3) # alpha value for intensity\n",
    "for i in centroids.keys():\n",
    " plt.scatter(*centroids[i], color=colmap[i])\n",
    "plt.xlim(0, 80)\n",
    "plt.ylim(0, 80)\n",
    "plt.show()"
   ]
  },
  {
   "cell_type": "code",
   "execution_count": 11,
   "metadata": {},
   "outputs": [],
   "source": []
  },
  {
   "cell_type": "code",
   "execution_count": null,
   "metadata": {},
   "outputs": [],
   "source": []
  }
 ],
 "metadata": {
  "kernelspec": {
   "display_name": "Python 2",
   "language": "python",
   "name": "python2"
  },
  "language_info": {
   "codemirror_mode": {
    "name": "ipython",
    "version": 2
   },
   "file_extension": ".py",
   "mimetype": "text/x-python",
   "name": "python",
   "nbconvert_exporter": "python",
   "pygments_lexer": "ipython2",
   "version": "2.7.6"
  }
 },
 "nbformat": 4,
 "nbformat_minor": 0
}
